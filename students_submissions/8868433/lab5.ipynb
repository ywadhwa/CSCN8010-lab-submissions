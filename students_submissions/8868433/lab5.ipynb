{
 "cells": [
  {
   "cell_type": "code",
   "execution_count": 111,
   "metadata": {},
   "outputs": [],
   "source": [
    "#Importing the libraries\n",
    "\n",
    "import numpy as np\n",
    "from sklearn.model_selection import train_test_split \n",
    "from sklearn.linear_model import LinearRegression\n",
    "from sklearn import metrics\n",
    "from sklearn.metrics import r2_score\n",
    "import matplotlib.pyplot as plt \n",
    "from sklearn.preprocessing import PolynomialFeatures\n",
    "from sklearn.pipeline import make_pipeline\n",
    "from sklearn.model_selection import cross_val_score"
   ]
  },
  {
   "cell_type": "code",
   "execution_count": 112,
   "metadata": {},
   "outputs": [],
   "source": [
    "#Loading the dataset\n",
    "\n",
    "from sklearn import datasets\n",
    "diabetes_X, diabetes_y = datasets.load_diabetes(return_X_y=True,scaled=False, as_frame=True)"
   ]
  },
  {
   "cell_type": "code",
   "execution_count": 131,
   "metadata": {},
   "outputs": [],
   "source": [
    "\n",
    "cross_val_scores = []\n",
    "degrees = np.arange(0,9)\n",
    "\n",
    "# Perform cross-validation for each degree\n",
    "for degree in degrees:\n",
    "    # Create a polynomial regression model for the current degree\n",
    "    model = make_pipeline(PolynomialFeatures(degree), LinearRegression())\n",
    "\n",
    "    # Calculate cross-validation scores using the mean squared error (MSE)\n",
    "    r_squared = cross_val_score(model, diabetes_X, diabetes_y, cv=5, scoring='r2')\n",
    "    mean_r2 = r_squared.mean()\n",
    "    std_r2 = r_squared.std()\n",
    "    mse = -cross_val_score(model, diabetes_X, diabetes_y, cv=5, scoring='neg_mean_squared_error')\n",
    "    mean_mse = mse.mean()\n",
    "    std_mse = mse.std()\n",
    "    mae = -cross_val_score(model, diabetes_X, diabetes_y, cv=5, scoring='neg_mean_absolute_error')\n",
    "    mean_mae = mae.mean()\n",
    "    std_mae = mae.std()\n",
    "    mape = -cross_val_score(model, diabetes_X, diabetes_y, cv=5, scoring='neg_mean_absolute_percentage_error')\n",
    "    mean_mape = mape.mean()\n",
    "    std_mape = mape.std()\n",
    "\n",
    "    # Append the scores to the list\n",
    "    cross_val_scores.append([degree, mean_r2, std_r2, mean_mae, std_mae, mean_mape, std_mape, mean_mse, std_mse])\n"
   ]
  },
  {
   "cell_type": "code",
   "execution_count": 132,
   "metadata": {},
   "outputs": [
    {
     "data": {
      "text/html": [
       "<div>\n",
       "<style scoped>\n",
       "    .dataframe tbody tr th:only-of-type {\n",
       "        vertical-align: middle;\n",
       "    }\n",
       "\n",
       "    .dataframe tbody tr th {\n",
       "        vertical-align: top;\n",
       "    }\n",
       "\n",
       "    .dataframe thead th {\n",
       "        text-align: right;\n",
       "    }\n",
       "</style>\n",
       "<table border=\"1\" class=\"dataframe\">\n",
       "  <thead>\n",
       "    <tr style=\"text-align: right;\">\n",
       "      <th></th>\n",
       "      <th>Degree</th>\n",
       "      <th>Mean R-Squared</th>\n",
       "      <th>STD R-Squared</th>\n",
       "      <th>Mean MAE</th>\n",
       "      <th>STD MAE</th>\n",
       "      <th>Mean MAPE</th>\n",
       "      <th>STD MAPE</th>\n",
       "      <th>Mean MSE</th>\n",
       "      <th>STD MSE</th>\n",
       "    </tr>\n",
       "  </thead>\n",
       "  <tbody>\n",
       "    <tr>\n",
       "      <th>0</th>\n",
       "      <td>0</td>\n",
       "      <td>-0.027506</td>\n",
       "      <td>0.036772</td>\n",
       "      <td>66.045624</td>\n",
       "      <td>3.474660</td>\n",
       "      <td>0.623622</td>\n",
       "      <td>0.065610</td>\n",
       "      <td>5.982413e+03</td>\n",
       "      <td>5.472524e+02</td>\n",
       "    </tr>\n",
       "    <tr>\n",
       "      <th>1</th>\n",
       "      <td>1</td>\n",
       "      <td>0.482316</td>\n",
       "      <td>0.049269</td>\n",
       "      <td>44.276499</td>\n",
       "      <td>2.100110</td>\n",
       "      <td>0.394860</td>\n",
       "      <td>0.029602</td>\n",
       "      <td>2.993081e+03</td>\n",
       "      <td>1.507710e+02</td>\n",
       "    </tr>\n",
       "    <tr>\n",
       "      <th>2</th>\n",
       "      <td>2</td>\n",
       "      <td>-0.841362</td>\n",
       "      <td>1.656913</td>\n",
       "      <td>68.304484</td>\n",
       "      <td>20.620472</td>\n",
       "      <td>0.583773</td>\n",
       "      <td>0.114236</td>\n",
       "      <td>1.037947e+04</td>\n",
       "      <td>8.439139e+03</td>\n",
       "    </tr>\n",
       "    <tr>\n",
       "      <th>3</th>\n",
       "      <td>3</td>\n",
       "      <td>-199.796464</td>\n",
       "      <td>226.976489</td>\n",
       "      <td>330.432572</td>\n",
       "      <td>147.820363</td>\n",
       "      <td>2.261685</td>\n",
       "      <td>0.922023</td>\n",
       "      <td>1.147209e+06</td>\n",
       "      <td>1.235182e+06</td>\n",
       "    </tr>\n",
       "    <tr>\n",
       "      <th>4</th>\n",
       "      <td>4</td>\n",
       "      <td>-571.083108</td>\n",
       "      <td>369.891883</td>\n",
       "      <td>657.260477</td>\n",
       "      <td>159.475902</td>\n",
       "      <td>5.232018</td>\n",
       "      <td>0.876845</td>\n",
       "      <td>3.402772e+06</td>\n",
       "      <td>2.322364e+06</td>\n",
       "    </tr>\n",
       "    <tr>\n",
       "      <th>5</th>\n",
       "      <td>5</td>\n",
       "      <td>-436.856887</td>\n",
       "      <td>379.100423</td>\n",
       "      <td>562.993636</td>\n",
       "      <td>59.917202</td>\n",
       "      <td>4.570284</td>\n",
       "      <td>0.922352</td>\n",
       "      <td>2.644547e+06</td>\n",
       "      <td>2.458059e+06</td>\n",
       "    </tr>\n",
       "    <tr>\n",
       "      <th>6</th>\n",
       "      <td>6</td>\n",
       "      <td>-1696.799731</td>\n",
       "      <td>2635.123484</td>\n",
       "      <td>742.694951</td>\n",
       "      <td>191.065386</td>\n",
       "      <td>6.187042</td>\n",
       "      <td>2.557326</td>\n",
       "      <td>1.058113e+07</td>\n",
       "      <td>1.681254e+07</td>\n",
       "    </tr>\n",
       "    <tr>\n",
       "      <th>7</th>\n",
       "      <td>7</td>\n",
       "      <td>-5530.894074</td>\n",
       "      <td>9518.586954</td>\n",
       "      <td>1032.681725</td>\n",
       "      <td>393.439617</td>\n",
       "      <td>8.666399</td>\n",
       "      <td>5.149762</td>\n",
       "      <td>3.475883e+07</td>\n",
       "      <td>6.056269e+07</td>\n",
       "    </tr>\n",
       "    <tr>\n",
       "      <th>8</th>\n",
       "      <td>8</td>\n",
       "      <td>-16076.255118</td>\n",
       "      <td>28049.952581</td>\n",
       "      <td>1475.658532</td>\n",
       "      <td>706.280274</td>\n",
       "      <td>12.474617</td>\n",
       "      <td>9.111319</td>\n",
       "      <td>1.012450e+08</td>\n",
       "      <td>1.783501e+08</td>\n",
       "    </tr>\n",
       "  </tbody>\n",
       "</table>\n",
       "</div>"
      ],
      "text/plain": [
       "   Degree  Mean R-Squared  STD R-Squared     Mean MAE     STD MAE  Mean MAPE   \n",
       "0       0       -0.027506       0.036772    66.045624    3.474660   0.623622  \\\n",
       "1       1        0.482316       0.049269    44.276499    2.100110   0.394860   \n",
       "2       2       -0.841362       1.656913    68.304484   20.620472   0.583773   \n",
       "3       3     -199.796464     226.976489   330.432572  147.820363   2.261685   \n",
       "4       4     -571.083108     369.891883   657.260477  159.475902   5.232018   \n",
       "5       5     -436.856887     379.100423   562.993636   59.917202   4.570284   \n",
       "6       6    -1696.799731    2635.123484   742.694951  191.065386   6.187042   \n",
       "7       7    -5530.894074    9518.586954  1032.681725  393.439617   8.666399   \n",
       "8       8   -16076.255118   28049.952581  1475.658532  706.280274  12.474617   \n",
       "\n",
       "   STD MAPE      Mean MSE       STD MSE  \n",
       "0  0.065610  5.982413e+03  5.472524e+02  \n",
       "1  0.029602  2.993081e+03  1.507710e+02  \n",
       "2  0.114236  1.037947e+04  8.439139e+03  \n",
       "3  0.922023  1.147209e+06  1.235182e+06  \n",
       "4  0.876845  3.402772e+06  2.322364e+06  \n",
       "5  0.922352  2.644547e+06  2.458059e+06  \n",
       "6  2.557326  1.058113e+07  1.681254e+07  \n",
       "7  5.149762  3.475883e+07  6.056269e+07  \n",
       "8  9.111319  1.012450e+08  1.783501e+08  "
      ]
     },
     "execution_count": 132,
     "metadata": {},
     "output_type": "execute_result"
    }
   ],
   "source": [
    "# Converting the list to a DataFrame\n",
    "import pandas as pd\n",
    "df = pd.DataFrame(cross_val_scores, columns=['Degree','Mean R-Squared','STD R-Squared', 'Mean MAE', 'STD MAE', 'Mean MAPE', 'STD MAPE', 'Mean MSE', 'STD MSE'])\n",
    "df\n"
   ]
  },
  {
   "cell_type": "code",
   "execution_count": 134,
   "metadata": {},
   "outputs": [
    {
     "name": "stdout",
     "output_type": "stream",
     "text": [
      "\n",
      "Best model based on R-Squared: Degree 1\n",
      "Best model based on MAE: Degree 1\n",
      "Best model based on MSE: Degree 1\n",
      "Best model based on MAPE: Degree 1\n"
     ]
    }
   ],
   "source": [
    "\n",
    "best_r2_model = degrees[np.argmax(df['Mean R-Squared'])]\n",
    "best_mae_model = degrees[np.argmin(df['Mean MAE'])]\n",
    "best_mse_model = degrees[np.argmin(df['Mean MSE'])]\n",
    "best_mape_model = degrees[np.argmin(df['Mean MAPE'])]\n",
    "\n",
    "print(f\"\\nBest model based on R-Squared: Degree {df['Degree'][best_r2_model]}\")\n",
    "print(f\"Best model based on MAE: Degree {df['Degree'][best_mae_model]}\")\n",
    "print(f\"Best model based on MSE: Degree {df['Degree'][best_mse_model]}\")\n",
    "print(f\"Best model based on MAPE: Degree {df['Degree'][best_mape_model]}\")"
   ]
  },
  {
   "cell_type": "markdown",
   "metadata": {},
   "source": [
    "On the basis of the results, degree 1 has the highest R-Squared Value and the lowest values for MAE, MSE and MAPE. In case of other polynomial models, the R2 value is negative and the values of MSE, MAE and MAPE is increasing, which indicates that the model is performing poorly. "
   ]
  },
  {
   "cell_type": "code",
   "execution_count": 123,
   "metadata": {},
   "outputs": [],
   "source": [
    "#Fitting degree 1 model to the diabetes data\n",
    "\n",
    "cross_valid = PolynomialFeatures(degree=1, include_bias=False)\n",
    "cross_valid_fit = cross_valid.fit_transform(diabetes_X)\n",
    "model = LinearRegression()"
   ]
  },
  {
   "cell_type": "code",
   "execution_count": 124,
   "metadata": {},
   "outputs": [
    {
     "data": {
      "text/html": [
       "<style>#sk-container-id-2 {color: black;background-color: white;}#sk-container-id-2 pre{padding: 0;}#sk-container-id-2 div.sk-toggleable {background-color: white;}#sk-container-id-2 label.sk-toggleable__label {cursor: pointer;display: block;width: 100%;margin-bottom: 0;padding: 0.3em;box-sizing: border-box;text-align: center;}#sk-container-id-2 label.sk-toggleable__label-arrow:before {content: \"▸\";float: left;margin-right: 0.25em;color: #696969;}#sk-container-id-2 label.sk-toggleable__label-arrow:hover:before {color: black;}#sk-container-id-2 div.sk-estimator:hover label.sk-toggleable__label-arrow:before {color: black;}#sk-container-id-2 div.sk-toggleable__content {max-height: 0;max-width: 0;overflow: hidden;text-align: left;background-color: #f0f8ff;}#sk-container-id-2 div.sk-toggleable__content pre {margin: 0.2em;color: black;border-radius: 0.25em;background-color: #f0f8ff;}#sk-container-id-2 input.sk-toggleable__control:checked~div.sk-toggleable__content {max-height: 200px;max-width: 100%;overflow: auto;}#sk-container-id-2 input.sk-toggleable__control:checked~label.sk-toggleable__label-arrow:before {content: \"▾\";}#sk-container-id-2 div.sk-estimator input.sk-toggleable__control:checked~label.sk-toggleable__label {background-color: #d4ebff;}#sk-container-id-2 div.sk-label input.sk-toggleable__control:checked~label.sk-toggleable__label {background-color: #d4ebff;}#sk-container-id-2 input.sk-hidden--visually {border: 0;clip: rect(1px 1px 1px 1px);clip: rect(1px, 1px, 1px, 1px);height: 1px;margin: -1px;overflow: hidden;padding: 0;position: absolute;width: 1px;}#sk-container-id-2 div.sk-estimator {font-family: monospace;background-color: #f0f8ff;border: 1px dotted black;border-radius: 0.25em;box-sizing: border-box;margin-bottom: 0.5em;}#sk-container-id-2 div.sk-estimator:hover {background-color: #d4ebff;}#sk-container-id-2 div.sk-parallel-item::after {content: \"\";width: 100%;border-bottom: 1px solid gray;flex-grow: 1;}#sk-container-id-2 div.sk-label:hover label.sk-toggleable__label {background-color: #d4ebff;}#sk-container-id-2 div.sk-serial::before {content: \"\";position: absolute;border-left: 1px solid gray;box-sizing: border-box;top: 0;bottom: 0;left: 50%;z-index: 0;}#sk-container-id-2 div.sk-serial {display: flex;flex-direction: column;align-items: center;background-color: white;padding-right: 0.2em;padding-left: 0.2em;position: relative;}#sk-container-id-2 div.sk-item {position: relative;z-index: 1;}#sk-container-id-2 div.sk-parallel {display: flex;align-items: stretch;justify-content: center;background-color: white;position: relative;}#sk-container-id-2 div.sk-item::before, #sk-container-id-2 div.sk-parallel-item::before {content: \"\";position: absolute;border-left: 1px solid gray;box-sizing: border-box;top: 0;bottom: 0;left: 50%;z-index: -1;}#sk-container-id-2 div.sk-parallel-item {display: flex;flex-direction: column;z-index: 1;position: relative;background-color: white;}#sk-container-id-2 div.sk-parallel-item:first-child::after {align-self: flex-end;width: 50%;}#sk-container-id-2 div.sk-parallel-item:last-child::after {align-self: flex-start;width: 50%;}#sk-container-id-2 div.sk-parallel-item:only-child::after {width: 0;}#sk-container-id-2 div.sk-dashed-wrapped {border: 1px dashed gray;margin: 0 0.4em 0.5em 0.4em;box-sizing: border-box;padding-bottom: 0.4em;background-color: white;}#sk-container-id-2 div.sk-label label {font-family: monospace;font-weight: bold;display: inline-block;line-height: 1.2em;}#sk-container-id-2 div.sk-label-container {text-align: center;}#sk-container-id-2 div.sk-container {/* jupyter's `normalize.less` sets `[hidden] { display: none; }` but bootstrap.min.css set `[hidden] { display: none !important; }` so we also need the `!important` here to be able to override the default hidden behavior on the sphinx rendered scikit-learn.org. See: https://github.com/scikit-learn/scikit-learn/issues/21755 */display: inline-block !important;position: relative;}#sk-container-id-2 div.sk-text-repr-fallback {display: none;}</style><div id=\"sk-container-id-2\" class=\"sk-top-container\"><div class=\"sk-text-repr-fallback\"><pre>LinearRegression()</pre><b>In a Jupyter environment, please rerun this cell to show the HTML representation or trust the notebook. <br />On GitHub, the HTML representation is unable to render, please try loading this page with nbviewer.org.</b></div><div class=\"sk-container\" hidden><div class=\"sk-item\"><div class=\"sk-estimator sk-toggleable\"><input class=\"sk-toggleable__control sk-hidden--visually\" id=\"sk-estimator-id-2\" type=\"checkbox\" checked><label for=\"sk-estimator-id-2\" class=\"sk-toggleable__label sk-toggleable__label-arrow\">LinearRegression</label><div class=\"sk-toggleable__content\"><pre>LinearRegression()</pre></div></div></div></div></div>"
      ],
      "text/plain": [
       "LinearRegression()"
      ]
     },
     "execution_count": 124,
     "metadata": {},
     "output_type": "execute_result"
    }
   ],
   "source": [
    "model.fit(diabetes_X, diabetes_y)"
   ]
  },
  {
   "cell_type": "code",
   "execution_count": 126,
   "metadata": {},
   "outputs": [],
   "source": [
    "ypred = model.predict(diabetes_X)"
   ]
  },
  {
   "cell_type": "code",
   "execution_count": 128,
   "metadata": {},
   "outputs": [
    {
     "name": "stdout",
     "output_type": "stream",
     "text": [
      "R-Squared value: 0.52\n"
     ]
    }
   ],
   "source": [
    "print('R-Squared value: %.2f' % r2_score(diabetes_y,ypred))"
   ]
  }
 ],
 "metadata": {
  "kernelspec": {
   "display_name": "CSCN8010_classic_ml",
   "language": "python",
   "name": "cscn8010_classic_ml"
  },
  "language_info": {
   "codemirror_mode": {
    "name": "ipython",
    "version": 3
   },
   "file_extension": ".py",
   "mimetype": "text/x-python",
   "name": "python",
   "nbconvert_exporter": "python",
   "pygments_lexer": "ipython3",
   "version": "3.11.5"
  }
 },
 "nbformat": 4,
 "nbformat_minor": 2
}
