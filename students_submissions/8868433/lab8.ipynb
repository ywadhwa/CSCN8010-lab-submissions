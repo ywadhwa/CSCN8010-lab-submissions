{
 "cells": [
  {
   "cell_type": "code",
   "execution_count": 1,
   "metadata": {},
   "outputs": [],
   "source": [
    "#Importing libraries\n",
    "import sys\n",
    "import torch\n",
    "import helpers as h"
   ]
  },
  {
   "cell_type": "code",
   "execution_count": 2,
   "metadata": {},
   "outputs": [
    {
     "name": "stdout",
     "output_type": "stream",
     "text": [
      "Python version: 3.11.5 (tags/v3.11.5:cce6ba9, Aug 24 2023, 14:38:34) [MSC v.1936 64 bit (AMD64)]\n",
      "pyTorch version: 2.0.0+cpu\n"
     ]
    }
   ],
   "source": [
    "# check the version of Python and PyTorch\n",
    "h.print_python_version()\n",
    "h.print_pytorch_version()"
   ]
  },
  {
   "cell_type": "markdown",
   "metadata": {},
   "source": [
    "__Using PyTorch__"
   ]
  },
  {
   "cell_type": "code",
   "execution_count": 8,
   "metadata": {},
   "outputs": [
    {
     "name": "stdout",
     "output_type": "stream",
     "text": [
      "tensor([1, 2, 3])\n",
      "Type         <class 'torch.Tensor'>\n",
      "dtype        torch.int64\n",
      "Dimension    1\n",
      "Shape        (3,)\n",
      "tensor([9, 8, 7])\n",
      "Type         <class 'torch.Tensor'>\n",
      "dtype        torch.int64\n",
      "Dimension    1\n",
      "Shape        (3,)\n"
     ]
    }
   ],
   "source": [
    "#Creating 2 vectors of length 3 using PyTorch\n",
    "x = torch.tensor([1, 2, 3])\n",
    "y = torch.tensor([9, 8, 7])\n",
    "h.print_tensor_info(x)\n",
    "h.print_tensor_info(y)"
   ]
  },
  {
   "cell_type": "code",
   "execution_count": 9,
   "metadata": {},
   "outputs": [
    {
     "name": "stdout",
     "output_type": "stream",
     "text": [
      "tensor(46)\n"
     ]
    }
   ],
   "source": [
    "#Calculating dot product of 2 vectors\n",
    "dot_product_torch = x.dot(y)\n",
    "print(dot_product_torch)"
   ]
  },
  {
   "cell_type": "code",
   "execution_count": 10,
   "metadata": {},
   "outputs": [
    {
     "name": "stdout",
     "output_type": "stream",
     "text": [
      "tensor([[1, 2],\n",
      "        [4, 6]])\n",
      "Type         <class 'torch.Tensor'>\n",
      "dtype        torch.int64\n",
      "Dimension    2\n",
      "Shape        (2, 2)\n",
      "tensor([[9, 8],\n",
      "        [7, 6]])\n",
      "Type         <class 'torch.Tensor'>\n",
      "dtype        torch.int64\n",
      "Dimension    2\n",
      "Shape        (2, 2)\n"
     ]
    }
   ],
   "source": [
    "#Creating 2 matrices (2x2) using PyTorch\n",
    "\n",
    "d1 = torch.tensor([[1, 2],[4,6] ])\n",
    "d2 = torch.tensor([[9, 8],[7, 6] ])\n",
    "h.print_tensor_info(d1)\n",
    "h.print_tensor_info(d2)"
   ]
  },
  {
   "cell_type": "code",
   "execution_count": 11,
   "metadata": {},
   "outputs": [
    {
     "name": "stdout",
     "output_type": "stream",
     "text": [
      "tensor([[23, 20],\n",
      "        [78, 68]])\n"
     ]
    }
   ],
   "source": [
    "#Performing matrix multiplication\n",
    "mat_mult_torch = torch.matmul(d1,d2)\n",
    "print(mat_mult_torch)"
   ]
  },
  {
   "cell_type": "markdown",
   "metadata": {},
   "source": [
    "__Using Tensorflow__"
   ]
  },
  {
   "cell_type": "code",
   "execution_count": 1,
   "metadata": {},
   "outputs": [],
   "source": [
    "#Importing libraries\n",
    "import tensorflow as tf\n",
    "import numpy as np"
   ]
  },
  {
   "cell_type": "code",
   "execution_count": 2,
   "metadata": {},
   "outputs": [
    {
     "name": "stdout",
     "output_type": "stream",
     "text": [
      "tf.Tensor([1 2 3], shape=(3,), dtype=int32)\n",
      "tf.Tensor([9 8 7], shape=(3,), dtype=int32)\n"
     ]
    }
   ],
   "source": [
    "#Creating 2 vectors of length 3 using TensorFlow\n",
    "t1 = tf.constant([1,2,3])\n",
    "t2 = tf.constant([9,8,7])\n",
    "print(t1)\n",
    "print(t2)"
   ]
  },
  {
   "cell_type": "code",
   "execution_count": 3,
   "metadata": {},
   "outputs": [
    {
     "name": "stdout",
     "output_type": "stream",
     "text": [
      "tf.Tensor(46, shape=(), dtype=int32)\n"
     ]
    }
   ],
   "source": [
    "#Calculating dot product of 2 vectors\n",
    "dot_product = tf.tensordot(t1,t2, axes=1)\n",
    "print(dot_product)"
   ]
  },
  {
   "cell_type": "code",
   "execution_count": 4,
   "metadata": {},
   "outputs": [
    {
     "name": "stdout",
     "output_type": "stream",
     "text": [
      "tf.Tensor(\n",
      "[[1 2]\n",
      " [4 6]], shape=(2, 2), dtype=int32)\n",
      "tf.Tensor(\n",
      "[[9 8]\n",
      " [7 6]], shape=(2, 2), dtype=int32)\n"
     ]
    }
   ],
   "source": [
    "#Creating 2 matrices (2x2) using TensorFlow\n",
    "td1 = tf.constant([[1,2],[4,6]])\n",
    "td2 = tf.constant([[9,8],[7,6]])\n",
    "print(td1)\n",
    "print(td2)"
   ]
  },
  {
   "cell_type": "code",
   "execution_count": 5,
   "metadata": {},
   "outputs": [
    {
     "name": "stdout",
     "output_type": "stream",
     "text": [
      "tf.Tensor(\n",
      "[[23 20]\n",
      " [78 68]], shape=(2, 2), dtype=int32)\n"
     ]
    }
   ],
   "source": [
    "#Performing matrix multiplication\n",
    "mat_mult = tf.matmul(td1,td2)\n",
    "print(mat_mult)"
   ]
  },
  {
   "cell_type": "code",
   "execution_count": null,
   "metadata": {},
   "outputs": [],
   "source": []
  }
 ],
 "metadata": {
  "kernelspec": {
   "display_name": "pytorch_cpu",
   "language": "python",
   "name": "pytorch_cpu"
  },
  "language_info": {
   "codemirror_mode": {
    "name": "ipython",
    "version": 3
   },
   "file_extension": ".py",
   "mimetype": "text/x-python",
   "name": "python",
   "nbconvert_exporter": "python",
   "pygments_lexer": "ipython3",
   "version": "3.11.5"
  }
 },
 "nbformat": 4,
 "nbformat_minor": 2
}
