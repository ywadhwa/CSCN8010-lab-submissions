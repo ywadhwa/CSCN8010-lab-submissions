{
 "cells": [
  {
   "cell_type": "code",
   "execution_count": 29,
   "metadata": {},
   "outputs": [],
   "source": [
    "#Importing the libraries\n",
    "from tensorflow.keras.datasets import fashion_mnist\n",
    "from tensorflow import keras\n",
    "from tensorflow.keras import layers\n",
    "import tensorflow as tf\n",
    "import matplotlib.pyplot as plt\n",
    "import numpy as np"
   ]
  },
  {
   "cell_type": "code",
   "execution_count": 30,
   "metadata": {},
   "outputs": [],
   "source": [
    "#Loading the Fashion MNIST dataset\n",
    "(train_images, train_labels), (test_images, test_labels) = fashion_mnist.load_data()"
   ]
  },
  {
   "cell_type": "markdown",
   "metadata": {},
   "source": [
    "F-MINST dataset is a dataset of Zalando's article images. The dataset consists of 60,000 training examples and 10,000 test examples.\n",
    "Each example is a 28x28 grayscale image. Each image is associated with a label from 10 classes.\n",
    "\n",
    "_The labels are as follows:_\n",
    "\n",
    "0 T-shirt/top\n",
    "\n",
    "1 Trouser\n",
    "\n",
    "2 Pullover\n",
    "\n",
    "3 Dress\n",
    "\n",
    "4 Coat\n",
    "\n",
    "5 Sandal\n",
    "\n",
    "6 Shirt\n",
    "\n",
    "7 Sneaker\n",
    "\n",
    "8 Bag\n",
    "\n",
    "9 Ankle boot"
   ]
  },
  {
   "cell_type": "code",
   "execution_count": 46,
   "metadata": {},
   "outputs": [
    {
     "name": "stdout",
     "output_type": "stream",
     "text": [
      "Training dataset shape: (60000, 784) Training labels shape: (60000,)\n",
      "Test dataset shape: (10000, 784) Test labels shape: (10000,)\n"
     ]
    }
   ],
   "source": [
    "#Shape of the dataset\n",
    "print(\"Training dataset shape:\", train_images.shape, \"Training labels shape:\", train_labels.shape)\n",
    "print(\"Test dataset shape:\", test_images.shape, \"Test labels shape:\", test_labels.shape)"
   ]
  },
  {
   "cell_type": "code",
   "execution_count": 32,
   "metadata": {},
   "outputs": [
    {
     "data": {
      "text/plain": [
       "<function matplotlib.pyplot.show(close=None, block=None)>"
      ]
     },
     "execution_count": 32,
     "metadata": {},
     "output_type": "execute_result"
    },
    {
     "data": {
      "image/png": "[encoded data removed]",
      "text/plain": [
       "<Figure size 1000x1000 with 5 Axes>"
      ]
     },
     "metadata": {},
     "output_type": "display_data"
    }
   ],
   "source": [
    "#Plotting the images from the training dataset\n",
    "plt.figure(figsize=(10,10))\n",
    "for i in range (5):\n",
    "    plt.subplot(5, 5, i+1)\n",
    "    plt.imshow(train_images[i], cmap='gray')\n",
    "    plt.axis('off')\n",
    "plt.show"
   ]
  },
  {
   "cell_type": "code",
   "execution_count": 33,
   "metadata": {},
   "outputs": [
    {
     "name": "stdout",
     "output_type": "stream",
     "text": [
      "Unique labels in the dataset: {0, 1, 2, 3, 4, 5, 6, 7, 8, 9}\n"
     ]
    }
   ],
   "source": [
    "print(\"Unique labels in the dataset:\", set(train_labels))"
   ]
  },
  {
   "cell_type": "code",
   "execution_count": 34,
   "metadata": {},
   "outputs": [],
   "source": [
    "#Flattening the 28x28 image into dim=1 (784,) vector\n",
    "train_images = train_images.reshape((60000, 28 * 28)) \n",
    "test_images = test_images.reshape((10000, 28 * 28))"
   ]
  },
  {
   "cell_type": "code",
   "execution_count": 35,
   "metadata": {},
   "outputs": [],
   "source": [
    "#Normalizing the data to the range [0,1] by min-max range\n",
    "train_images = train_images.astype(\"float32\") / 255  \n",
    "test_images = test_images.astype(\"float32\") / 255"
   ]
  },
  {
   "cell_type": "code",
   "execution_count": 36,
   "metadata": {},
   "outputs": [],
   "source": [
    "#Defining the Neural Network Model using Keras\n",
    "hyperparameters = [512,1024,2048] #Hyperparameters configurations\n",
    "models = []\n",
    "for i in hyperparameters:\n",
    "    model = keras.Sequential([\n",
    "        layers.Dense(i, activation=\"relu\"),\n",
    "        layers.Dense(10, activation=\"softmax\")\n",
    "    ])\n",
    "    models.append(model)\n"
   ]
  },
  {
   "cell_type": "code",
   "execution_count": 37,
   "metadata": {},
   "outputs": [
    {
     "name": "stdout",
     "output_type": "stream",
     "text": [
      "Epoch 1/5\n",
      "469/469 [==============================] - 4s 8ms/step - loss: 0.5549 - accuracy: 0.8023\n",
      "Epoch 2/5\n",
      "469/469 [==============================] - 4s 8ms/step - loss: 0.3850 - accuracy: 0.8587\n",
      "Epoch 3/5\n",
      "469/469 [==============================] - 4s 8ms/step - loss: 0.3391 - accuracy: 0.8743\n",
      "Epoch 4/5\n",
      "469/469 [==============================] - 4s 8ms/step - loss: 0.3142 - accuracy: 0.8823\n",
      "Epoch 5/5\n",
      "469/469 [==============================] - 4s 8ms/step - loss: 0.2936 - accuracy: 0.8908\n",
      "Epoch 1/5\n",
      "469/469 [==============================] - 6s 12ms/step - loss: 0.5685 - accuracy: 0.7976\n",
      "Epoch 2/5\n",
      "469/469 [==============================] - 5s 12ms/step - loss: 0.3832 - accuracy: 0.8583\n",
      "Epoch 3/5\n",
      "469/469 [==============================] - 5s 12ms/step - loss: 0.3392 - accuracy: 0.8733\n",
      "Epoch 4/5\n",
      "469/469 [==============================] - 5s 11ms/step - loss: 0.3122 - accuracy: 0.8835\n",
      "Epoch 5/5\n",
      "469/469 [==============================] - 5s 11ms/step - loss: 0.2941 - accuracy: 0.8904\n",
      "Epoch 1/5\n",
      "469/469 [==============================] - 10s 21ms/step - loss: 0.5693 - accuracy: 0.7978\n",
      "Epoch 2/5\n",
      "469/469 [==============================] - 10s 22ms/step - loss: 0.3829 - accuracy: 0.8579\n",
      "Epoch 3/5\n",
      "469/469 [==============================] - 11s 23ms/step - loss: 0.3389 - accuracy: 0.8742\n",
      "Epoch 4/5\n",
      "469/469 [==============================] - 10s 21ms/step - loss: 0.3124 - accuracy: 0.8842\n",
      "Epoch 5/5\n",
      "469/469 [==============================] - 10s 22ms/step - loss: 0.2937 - accuracy: 0.8911\n"
     ]
    }
   ],
   "source": [
    "for model in models:\n",
    "    #Configuring the learning process\n",
    "    model.compile(optimizer=\"rmsprop\", \n",
    "              loss=\"sparse_categorical_crossentropy\",\n",
    "              metrics=[\"accuracy\"])\n",
    "    #Training the model\n",
    "    model.fit(train_images, train_labels, epochs=5, batch_size=128)"
   ]
  },
  {
   "cell_type": "code",
   "execution_count": 38,
   "metadata": {},
   "outputs": [],
   "source": [
    "models_and_hyperparameters = list(zip(models, hyperparameters))"
   ]
  },
  {
   "cell_type": "code",
   "execution_count": 39,
   "metadata": {},
   "outputs": [
    {
     "data": {
      "text/plain": [
       "[(<keras.engine.sequential.Sequential at 0x21601509090>, 512),\n",
       " (<keras.engine.sequential.Sequential at 0x216007ca490>, 1024),\n",
       " (<keras.engine.sequential.Sequential at 0x216015c8850>, 2048)]"
      ]
     },
     "execution_count": 39,
     "metadata": {},
     "output_type": "execute_result"
    }
   ],
   "source": [
    "models_and_hyperparameters"
   ]
  },
  {
   "cell_type": "code",
   "execution_count": 40,
   "metadata": {},
   "outputs": [
    {
     "name": "stdout",
     "output_type": "stream",
     "text": [
      "313/313 [==============================] - 1s 2ms/step\n",
      "313/313 [==============================] - 1s 3ms/step\n",
      "313/313 [==============================] - 1s 4ms/step\n"
     ]
    }
   ],
   "source": [
    "predictions = []\n",
    "for model, i in models_and_hyperparameters:\n",
    "    prediction = model.predict(test_images)\n",
    "    predictions.append(prediction)"
   ]
  },
  {
   "cell_type": "code",
   "execution_count": 41,
   "metadata": {},
   "outputs": [
    {
     "name": "stdout",
     "output_type": "stream",
     "text": [
      "Predictions for model with 512 neurons in the hidden layer: [[8.93593824e-06 3.05016073e-07 3.94093695e-06 ... 2.51437891e-02\n",
      "  1.37681680e-04 9.57397640e-01]\n",
      " [1.31236575e-05 2.59414816e-11 9.98568177e-01 ... 1.83777906e-12\n",
      "  3.49401552e-09 9.20038178e-12]\n",
      " [9.67179492e-09 1.00000000e+00 1.07201921e-11 ... 9.30625409e-14\n",
      "  1.42624818e-11 9.01349850e-14]\n",
      " ...\n",
      " [2.87521136e-04 4.20295382e-10 6.61728518e-06 ... 1.70289155e-07\n",
      "  9.99641180e-01 3.82055587e-09]\n",
      " [1.86503456e-07 9.99991179e-01 1.19948336e-08 ... 7.81472131e-09\n",
      "  4.78879549e-08 1.89832274e-08]\n",
      " [6.93237598e-05 2.29695106e-05 7.91120983e-05 ... 4.65409039e-03\n",
      "  2.07198504e-03 6.69864676e-05]]\n",
      "313/313 [==============================] - 1s 3ms/step - loss: 0.3389 - accuracy: 0.8779\n",
      "test_acc: 0.8779000043869019\n",
      "Predictions for model with 1024 neurons in the hidden layer: [[2.18164041e-06 5.31786782e-07 9.53386177e-07 ... 6.04547076e-02\n",
      "  6.05416499e-05 9.38325346e-01]\n",
      " [4.67249220e-06 5.53993787e-12 9.99766409e-01 ... 1.41311476e-10\n",
      "  7.94140198e-10 7.68962810e-11]\n",
      " [1.66155600e-09 1.00000000e+00 4.16589419e-12 ... 6.53227472e-14\n",
      "  6.64172696e-14 1.53579931e-14]\n",
      " ...\n",
      " [1.29002467e-06 4.88369171e-11 2.77587333e-06 ... 8.58722800e-08\n",
      "  9.99992371e-01 1.79425447e-10]\n",
      " [1.66030101e-09 9.99999762e-01 1.09282194e-09 ... 2.66487804e-10\n",
      "  1.05381426e-10 2.81138335e-10]\n",
      " [3.88835848e-04 1.03341714e-04 6.76905096e-04 ... 4.20767777e-02\n",
      "  1.03354137e-02 1.93508487e-04]]\n",
      "313/313 [==============================] - 1s 4ms/step - loss: 0.3661 - accuracy: 0.8689\n",
      "test_acc: 0.8689000010490417\n",
      "Predictions for model with 2048 neurons in the hidden layer: [[1.72312383e-07 7.58211698e-08 3.18016227e-08 ... 4.70360788e-03\n",
      "  4.14033548e-06 9.89635766e-01]\n",
      " [3.13218370e-05 1.40635198e-10 9.95722175e-01 ... 1.88819360e-08\n",
      "  3.52245308e-08 2.01256487e-08]\n",
      " [1.81342857e-10 1.00000000e+00 1.29981247e-12 ... 4.85167679e-12\n",
      "  2.78076390e-12 9.44136398e-14]\n",
      " ...\n",
      " [2.56698513e-06 1.15137995e-11 5.44077068e-07 ... 3.36430134e-07\n",
      "  9.99992728e-01 1.55182145e-10]\n",
      " [2.43081821e-09 9.99995470e-01 7.72544873e-09 ... 4.97845072e-08\n",
      "  1.44639580e-08 1.52799569e-08]\n",
      " [2.17923189e-05 2.97494216e-06 7.58847164e-05 ... 2.86408211e-03\n",
      "  1.67831953e-04 1.20160194e-05]]\n",
      "313/313 [==============================] - 2s 5ms/step - loss: 0.3474 - accuracy: 0.8784\n",
      "test_acc: 0.8784000277519226\n"
     ]
    }
   ],
   "source": [
    "for (model, i), prediction in zip(models_and_hyperparameters, predictions):\n",
    "    print(f\"Predictions for model with {i} neurons in the hidden layer: {prediction}\")\n",
    "    #Evaluating the model\n",
    "    test_loss, test_acc = model.evaluate(test_images, test_labels)\n",
    "    print(f\"test_acc: {test_acc}\")"
   ]
  },
  {
   "cell_type": "code",
   "execution_count": 44,
   "metadata": {},
   "outputs": [
    {
     "name": "stdout",
     "output_type": "stream",
     "text": [
      "Confusion Matrix for model with 512 neurons in the hidden layer:\n",
      "\n",
      " [[876   0  15  13   7   1  77   0  11   0]\n",
      " [  5 967   0  19   4   0   3   0   2   0]\n",
      " [ 20   0 779   8 123   0  67   0   3   0]\n",
      " [ 38   8   7 861  49   0  31   0   6   0]\n",
      " [  1   1  83  22 844   0  47   0   2   0]\n",
      " [  0   0   0   0   0 984   0  11   2   3]\n",
      " [163   1  81  24  94   0 619   0  18   0]\n",
      " [  0   0   0   0   0  45   0 940   1  14]\n",
      " [  7   0   2   1   5   2   0   2 981   0]\n",
      " [  0   0   0   0   0  36   1  35   0 928]]\n",
      "Confusion Matrix for model with 1024 neurons in the hidden layer:\n",
      "\n",
      " [[839   3  45  27   5   2  64   0  15   0]\n",
      " [  1 977   1  14   3   0   1   0   3   0]\n",
      " [ 11   0 896   7  51   0  27   0   8   0]\n",
      " [ 16  25  26 869  41   0  18   0   5   0]\n",
      " [  0   0 230  26 719   0  21   0   4   0]\n",
      " [  0   0   0   1   0 966   0  24   1   8]\n",
      " [138   1 176  35  73   0 547   0  30   0]\n",
      " [  0   0   0   0   0  13   0 979   1   7]\n",
      " [  1   0   6   2   4   1   0   3 983   0]\n",
      " [  0   0   0   1   0   7   1  77   0 914]]\n",
      "Confusion Matrix for model with 2048 neurons in the hidden layer:\n",
      "\n",
      " [[766   1   5  27   6   0 187   1   7   0]\n",
      " [  3 965   0  22   5   0   4   0   1   0]\n",
      " [ 15   0 694   9 155   0 126   0   1   0]\n",
      " [ 12   2   7 880  54   0  40   0   5   0]\n",
      " [  0   0  49  18 858   0  74   0   1   0]\n",
      " [  0   0   0   1   0 953   0  37   0   9]\n",
      " [ 77   0  49  27  65   0 772   0  10   0]\n",
      " [  0   0   0   0   0  10   0 969   0  21]\n",
      " [  4   0   2   3   2   2   5   8 974   0]\n",
      " [  0   0   0   1   0   5   1  40   0 953]]\n"
     ]
    }
   ],
   "source": [
    "for (model, i), prediction in zip(models_and_hyperparameters, predictions):\n",
    "    # Convert probabilities to class labels\n",
    "    predicted_labels = np.argmax(prediction, axis=1)\n",
    "    \n",
    "    # Calculate confusion matrix\n",
    "    confusion_matrix = tf.math.confusion_matrix(test_labels, predicted_labels)\n",
    "    \n",
    "    print(f\"Confusion Matrix for model with {i} neurons in the hidden layer:\")\n",
    "    print(confusion_matrix.numpy())"
   ]
  },
  {
   "cell_type": "markdown",
   "metadata": {},
   "source": [
    "The diagnoal elements represent the number of correct prediction for each image class, while the off-diagnoal elements representes misclassifications.\n",
    "\n",
    "For instance, in the first model, with 512 neurons, the label 4 (Coat) has been misclassified as 2 (pullover).\n"
   ]
  },
  {
   "cell_type": "markdown",
   "metadata": {},
   "source": [
    "_Incorrect Classification Examples_"
   ]
  },
  {
   "cell_type": "code",
   "execution_count": 54,
   "metadata": {},
   "outputs": [
    {
     "data": {
      "image/png": "[encoded data removed]",
      "text/plain": [
       "<Figure size 640x480 with 1 Axes>"
      ]
     },
     "metadata": {},
     "output_type": "display_data"
    },
    {
     "data": {
      "image/png": "[encoded data removed]",
      "text/plain": [
       "<Figure size 640x480 with 1 Axes>"
      ]
     },
     "metadata": {},
     "output_type": "display_data"
    },
    {
     "data": {
      "image/png": "[encoded data removed]",
      "text/plain": [
       "<Figure size 640x480 with 1 Axes>"
      ]
     },
     "metadata": {},
     "output_type": "display_data"
    }
   ],
   "source": [
    "for (model, i), prediction in zip(models_and_hyperparameters, predictions):\n",
    "    incorrect_examples = []\n",
    "    for i in range(len(test_labels)):\n",
    "        if test_labels[i] != predicted_labels[i]:\n",
    "            incorrect_examples.append((test_images[i].reshape(28, 28), test_labels[i], predicted_labels[i]))\n",
    "\n",
    "    # Print 1 incorrect examples for each model\n",
    "    for j in range(min(1, len(incorrect_examples))):\n",
    "        img, true_label, pred_label = incorrect_examples[j]\n",
    "        plt.figure()\n",
    "        plt.imshow(img, cmap='gray')\n",
    "        plt.title(f\"True label: {true_label}, Predicted label: {pred_label}\")\n",
    "        plt.show()"
   ]
  }
 ],
 "metadata": {
  "kernelspec": {
   "display_name": "tensorflow_cpu",
   "language": "python",
   "name": "tensorflow_cpu"
  },
  "language_info": {
   "codemirror_mode": {
    "name": "ipython",
    "version": 3
   },
   "file_extension": ".py",
   "mimetype": "text/x-python",
   "name": "python",
   "nbconvert_exporter": "python",
   "pygments_lexer": "ipython3",
   "version": "3.11.5"
  }
 },
 "nbformat": 4,
 "nbformat_minor": 2
}
